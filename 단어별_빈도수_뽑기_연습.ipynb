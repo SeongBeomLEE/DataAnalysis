{
  "nbformat": 4,
  "nbformat_minor": 0,
  "metadata": {
    "colab": {
      "name": "단어별 빈도수 뽑기 연습.ipynb",
      "provenance": [],
      "collapsed_sections": [],
      "authorship_tag": "ABX9TyNqodBoV87Sbyi1g+oUuALN"
    },
    "kernelspec": {
      "name": "python3",
      "display_name": "Python 3"
    }
  },
  "cells": [
    {
      "cell_type": "code",
      "metadata": {
        "id": "oECpzyV93qf-"
      },
      "source": [
        "# 패키지 불러오기\n",
        "from sklearn.feature_extraction.text import CountVectorizer\n",
        "import pandas as pd"
      ],
      "execution_count": null,
      "outputs": []
    },
    {
      "cell_type": "code",
      "metadata": {
        "id": "yfclrkNE4Cn9"
      },
      "source": [
        "dan = [\"손 히히히 이성범 남양그룹\" , \"성범이 바보 바보 바보 천재 천재 천재\"] #예시\n",
        "test = [\"손 히히히 이성범 남양그룹\" , \"성범이 바보 바보 바보 천재 천재 천재\", \"성범이 바보 바보 바보 천재 천재 천재\",\n",
        "        \"캬캬캬캬캬캬\"]"
      ],
      "execution_count": null,
      "outputs": []
    },
    {
      "cell_type": "code",
      "metadata": {
        "id": "GMuux_NK4Iuq"
      },
      "source": [
        "#모델 생성\n",
        "vect = CountVectorizer()"
      ],
      "execution_count": null,
      "outputs": []
    },
    {
      "cell_type": "code",
      "metadata": {
        "id": "fwbF2s8X4LEq"
      },
      "source": [
        "#모델 실행\n",
        "vocab = vect.fit(dan)"
      ],
      "execution_count": null,
      "outputs": []
    },
    {
      "cell_type": "code",
      "metadata": {
        "id": "msXOh2N05-7v"
      },
      "source": [
        "# 모델 결과\n",
        "a = vect.get_feature_names() # 포함된 단어\n",
        "b = vocab.transform(dan) # 리스트내 각각의 문장별을 포함된 단어의 개수로 빈도수를 체크\n",
        "b = b.toarray() #배열로 만들어줌 , 데이터 프레임 형태로 만들기 위해"
      ],
      "execution_count": null,
      "outputs": []
    },
    {
      "cell_type": "code",
      "metadata": {
        "id": "xcXd-3lN7k0Q",
        "colab": {
          "base_uri": "https://localhost:8080/",
          "height": 111
        },
        "outputId": "6b6a6f85-3f53-4bf7-fb11-7b8e5cb415ea"
      },
      "source": [
        "# 데이터 프레임형태로 만들기\n",
        "df = pd.DataFrame(b, columns=a)\n",
        "df"
      ],
      "execution_count": null,
      "outputs": [
        {
          "output_type": "execute_result",
          "data": {
            "text/html": [
              "<div>\n",
              "<style scoped>\n",
              "    .dataframe tbody tr th:only-of-type {\n",
              "        vertical-align: middle;\n",
              "    }\n",
              "\n",
              "    .dataframe tbody tr th {\n",
              "        vertical-align: top;\n",
              "    }\n",
              "\n",
              "    .dataframe thead th {\n",
              "        text-align: right;\n",
              "    }\n",
              "</style>\n",
              "<table border=\"1\" class=\"dataframe\">\n",
              "  <thead>\n",
              "    <tr style=\"text-align: right;\">\n",
              "      <th></th>\n",
              "      <th>남양그룹</th>\n",
              "      <th>바보</th>\n",
              "      <th>성범이</th>\n",
              "      <th>이성범</th>\n",
              "      <th>천재</th>\n",
              "      <th>히히히</th>\n",
              "    </tr>\n",
              "  </thead>\n",
              "  <tbody>\n",
              "    <tr>\n",
              "      <th>0</th>\n",
              "      <td>1</td>\n",
              "      <td>0</td>\n",
              "      <td>0</td>\n",
              "      <td>1</td>\n",
              "      <td>0</td>\n",
              "      <td>1</td>\n",
              "    </tr>\n",
              "    <tr>\n",
              "      <th>1</th>\n",
              "      <td>0</td>\n",
              "      <td>3</td>\n",
              "      <td>1</td>\n",
              "      <td>0</td>\n",
              "      <td>3</td>\n",
              "      <td>0</td>\n",
              "    </tr>\n",
              "  </tbody>\n",
              "</table>\n",
              "</div>"
            ],
            "text/plain": [
              "   남양그룹  바보  성범이  이성범  천재  히히히\n",
              "0     1   0    0    1   0    1\n",
              "1     0   3    1    0   3    0"
            ]
          },
          "metadata": {
            "tags": []
          },
          "execution_count": 7
        }
      ]
    },
    {
      "cell_type": "code",
      "metadata": {
        "id": "cVB9VEOG8oDt"
      },
      "source": [
        "# 테스트 모델 결과\n",
        "a2 = vect.get_feature_names() # 포함된 단어\n",
        "b2 = vocab.transform(test) # 리스트내 각각의 문장별을 포함된 단어의 개수로 빈도수를 체크\n",
        "b2 = b2.toarray() #배열로 만들어줌 , 데이터 프레임 형태로 만들기 위해"
      ],
      "execution_count": null,
      "outputs": []
    },
    {
      "cell_type": "code",
      "metadata": {
        "colab": {
          "base_uri": "https://localhost:8080/",
          "height": 173
        },
        "id": "BwT6QLgY8oDv",
        "outputId": "954f68ce-9ff5-4d75-d48e-6177f72ae885"
      },
      "source": [
        "# 데이터 프레임형태로 만들기\n",
        "df2 = pd.DataFrame(b2, columns=a2)\n",
        "df2"
      ],
      "execution_count": null,
      "outputs": [
        {
          "output_type": "execute_result",
          "data": {
            "text/html": [
              "<div>\n",
              "<style scoped>\n",
              "    .dataframe tbody tr th:only-of-type {\n",
              "        vertical-align: middle;\n",
              "    }\n",
              "\n",
              "    .dataframe tbody tr th {\n",
              "        vertical-align: top;\n",
              "    }\n",
              "\n",
              "    .dataframe thead th {\n",
              "        text-align: right;\n",
              "    }\n",
              "</style>\n",
              "<table border=\"1\" class=\"dataframe\">\n",
              "  <thead>\n",
              "    <tr style=\"text-align: right;\">\n",
              "      <th></th>\n",
              "      <th>남양그룹</th>\n",
              "      <th>바보</th>\n",
              "      <th>성범이</th>\n",
              "      <th>이성범</th>\n",
              "      <th>천재</th>\n",
              "      <th>히히히</th>\n",
              "    </tr>\n",
              "  </thead>\n",
              "  <tbody>\n",
              "    <tr>\n",
              "      <th>0</th>\n",
              "      <td>1</td>\n",
              "      <td>0</td>\n",
              "      <td>0</td>\n",
              "      <td>1</td>\n",
              "      <td>0</td>\n",
              "      <td>1</td>\n",
              "    </tr>\n",
              "    <tr>\n",
              "      <th>1</th>\n",
              "      <td>0</td>\n",
              "      <td>3</td>\n",
              "      <td>1</td>\n",
              "      <td>0</td>\n",
              "      <td>3</td>\n",
              "      <td>0</td>\n",
              "    </tr>\n",
              "    <tr>\n",
              "      <th>2</th>\n",
              "      <td>0</td>\n",
              "      <td>3</td>\n",
              "      <td>1</td>\n",
              "      <td>0</td>\n",
              "      <td>3</td>\n",
              "      <td>0</td>\n",
              "    </tr>\n",
              "    <tr>\n",
              "      <th>3</th>\n",
              "      <td>0</td>\n",
              "      <td>0</td>\n",
              "      <td>0</td>\n",
              "      <td>0</td>\n",
              "      <td>0</td>\n",
              "      <td>0</td>\n",
              "    </tr>\n",
              "  </tbody>\n",
              "</table>\n",
              "</div>"
            ],
            "text/plain": [
              "   남양그룹  바보  성범이  이성범  천재  히히히\n",
              "0     1   0    0    1   0    1\n",
              "1     0   3    1    0   3    0\n",
              "2     0   3    1    0   3    0\n",
              "3     0   0    0    0   0    0"
            ]
          },
          "metadata": {
            "tags": []
          },
          "execution_count": 9
        }
      ]
    },
    {
      "cell_type": "code",
      "metadata": {
        "id": "cFC-mUEw8xcU"
      },
      "source": [
        ""
      ],
      "execution_count": null,
      "outputs": []
    }
  ]
}